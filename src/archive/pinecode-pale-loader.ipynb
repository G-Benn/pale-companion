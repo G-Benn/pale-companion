{
 "cells": [
  {
   "cell_type": "markdown",
   "id": "ae7e6ab9",
   "metadata": {},
   "source": [
    "Attempt to load an already existing Pinecone Index and create a pipeline on it"
   ]
  },
  {
   "cell_type": "code",
   "execution_count": 1,
   "id": "cf930668",
   "metadata": {},
   "outputs": [],
   "source": [
    "import os\n",
    "import pickle\n",
    "import logging\n",
    "import time\n",
    "from haystack.document_stores import PineconeDocumentStore\n",
    "from haystack import Document\n",
    "from haystack.nodes import PreProcessor, EmbeddingRetriever, Seq2SeqGenerator, TransformersSummarizer, FARMReader\n",
    "from haystack.pipelines import GenerativeQAPipeline, ExtractiveQAPipeline, SearchSummarizationPipeline"
   ]
  },
  {
   "cell_type": "code",
   "execution_count": 2,
   "id": "5ee0704c",
   "metadata": {},
   "outputs": [],
   "source": [
    "import logging\n",
    "\n",
    "logging.basicConfig(format=\"%(levelname)s - %(name)s -  %(message)s\", level=logging.WARNING)\n",
    "logging.getLogger(\"haystack\").setLevel(logging.WARNING)\n"
   ]
  },
  {
   "cell_type": "code",
   "execution_count": 3,
   "id": "d72488b5",
   "metadata": {},
   "outputs": [],
   "source": [
    "MODEL_LOCATION = \"../twig_otherverse_parahumans_adapted/\"\n",
    "PALE_CHAPTERS_FNAME = \"../data/chapter_fmt_list.pkl\""
   ]
  },
  {
   "cell_type": "code",
   "execution_count": 4,
   "id": "f88518d7",
   "metadata": {},
   "outputs": [
    {
     "name": "stdout",
     "output_type": "stream",
     "text": [
      "Testing with 30 chapters\n"
     ]
    }
   ],
   "source": [
    "with open(PALE_CHAPTERS_FNAME,'rb') as f:\n",
    "    all_chapters = pickle.load(f)\n",
    "chapters = [i for i in all_chapters if int(i['meta']['arc_number']) < 3]\n",
    "print(f\"Testing with {len(chapters)} chapters\")"
   ]
  },
  {
   "cell_type": "code",
   "execution_count": 5,
   "id": "e0f8aa66",
   "metadata": {},
   "outputs": [],
   "source": [
    "document_store = PineconeDocumentStore(\n",
    "    index = 'all-pale-docs',\n",
    "    api_key='6dcb03dd-509b-4ad3-8342-b705027cb07c',\n",
    "    similarity='cosine',\n",
    "    duplicate_documents='skip',\n",
    "    embedding_field=\"emb\",\n",
    "    embedding_dim=768,\n",
    "    metadata_config = {'indexed':['series_chapter_number','chapters','title']}\n",
    ")"
   ]
  },
  {
   "cell_type": "code",
   "execution_count": 6,
   "id": "0837f7ac",
   "metadata": {},
   "outputs": [],
   "source": [
    "retriever = EmbeddingRetriever(\n",
    "    document_store=document_store,\n",
    "    embedding_model=MODEL_LOCATION,\n",
    "    model_format=\"sentence_transformers\",\n",
    "    max_seq_len=500,\n",
    "    progress_bar=True,\n",
    ")"
   ]
  },
  {
   "cell_type": "code",
   "execution_count": 7,
   "id": "3d258b10",
   "metadata": {},
   "outputs": [],
   "source": [
    "generator = Seq2SeqGenerator(model_name_or_path=\"vblagoje/bart_lfqa\", num_beams=8, max_length=500)\n",
    "# Eventually with want to tweak the above\n",
    "pipe = GenerativeQAPipeline(generator, retriever) # We specify the params later"
   ]
  },
  {
   "cell_type": "code",
   "execution_count": 8,
   "id": "198650ec",
   "metadata": {},
   "outputs": [
    {
     "data": {
      "application/vnd.jupyter.widget-view+json": {
       "model_id": "6830e60fb5744bcb93c971290d157d5c",
       "version_major": 2,
       "version_minor": 0
      },
      "text/plain": [
       "Batches:   0%|          | 0/1 [00:00<?, ?it/s]"
      ]
     },
     "metadata": {},
     "output_type": "display_data"
    }
   ],
   "source": [
    "TEST_QUESTION = \"Who is Avery Kelly?\"\n",
    "\n",
    "TEST_OUTPUT = pipe.run(\n",
    "                query = TEST_QUESTION,\n",
    "                params = {\n",
    "                    \"Retriever\": {\"top_k\":10},\n",
    "                    # \"Generator\": {\"max_length\": maxlength, \"num_beams\": nbeam}\n",
    "                }\n",
    "            )"
   ]
  },
  {
   "cell_type": "code",
   "execution_count": null,
   "id": "e6358d23",
   "metadata": {},
   "outputs": [],
   "source": [
    "TEST_OUTPUT.keys()"
   ]
  },
  {
   "cell_type": "code",
   "execution_count": null,
   "id": "7ea2818a",
   "metadata": {},
   "outputs": [],
   "source": []
  }
 ],
 "metadata": {
  "kernelspec": {
   "display_name": "pale-companion",
   "language": "python",
   "name": "python3"
  },
  "language_info": {
   "codemirror_mode": {
    "name": "ipython",
    "version": 3
   },
   "file_extension": ".py",
   "mimetype": "text/x-python",
   "name": "python",
   "nbconvert_exporter": "python",
   "pygments_lexer": "ipython3",
   "version": "3.10.6"
  },
  "vscode": {
   "interpreter": {
    "hash": "94b34b26ca0ede8a9f125e364d487712040961b4d4c8262639b9c1a29ec53671"
   }
  }
 },
 "nbformat": 4,
 "nbformat_minor": 5
}
