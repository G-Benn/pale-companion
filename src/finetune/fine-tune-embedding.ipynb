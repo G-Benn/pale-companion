{
 "cells": [
  {
   "attachments": {},
   "cell_type": "markdown",
   "metadata": {},
   "source": [
    "## Fine tune a Retreiver on the GPL data\n",
    "Follow [this guide](https://haystack.deepset.ai/tutorials/09_dpr_training) on training your own DPR. Will likely have to do \n",
    "\n",
    "This will need to be done iteratively as 1) my personal PC likely won't be able to handle all files and 2) Colab is not likely to be able to do the fine tuning in one go. Will most likely process this one book at a time, starting with the shorter ones as a proof of concept."
   ]
  },
  {
   "cell_type": "code",
   "execution_count": null,
   "metadata": {},
   "outputs": [],
   "source": []
  }
 ],
 "metadata": {
  "language_info": {
   "name": "python"
  },
  "orig_nbformat": 4
 },
 "nbformat": 4,
 "nbformat_minor": 2
}
