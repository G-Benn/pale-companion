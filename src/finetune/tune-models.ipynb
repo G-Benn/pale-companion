{
 "cells": [
  {
   "attachments": {},
   "cell_type": "markdown",
   "metadata": {},
   "source": [
    "# Tuning Strategies:\n",
    "1. Fine-tune the entire DPR RAG ecosystem.\n",
    "    - This may be difficult (and state of the art), but it is possible _if_ you have your data in the form of questions and answers. Unless I do some pseudolabeling, blindly treat Reddit (or other QA-esque sources) as a QA dataset, or otherwise source data in the format I need here this is likely not possible for this project. Some examples and papers are [here](https://etalab-ia.github.io/knowledge-base/piaf/retriever/DPR_fine_tuning.html), [here](https://shamanesiri.medium.com/how-to-finetune-the-entire-rag-architecture-including-dpr-retriever-4b4385322552), [here](https://github.com/huggingface/transformers/blob/main/examples/research_projects/rag/finetune_rag.py), [here](https://kaushikshakkari.medium.com/open-domain-question-answering-series-part-6-fine-tuning-dense-retriever-models-without-any-aed7c08c33ff), [here](https://arxiv.org/pdf/2110.01599v1.pdf), [here](https://arxiv.org/pdf/2210.05156v1.pdf).\n",
    "2. Fine-tune the RAGenerator for the [Generative QA v1 implementation](https://haystack.deepset.ai/tutorials/07_rag_generator). This likely isn't possible (easily) due to the way that the RAG is setup in Huggingface and our dataset. Uses [this](https://docs.haystack.deepset.ai/docs/ready_made_pipelines#generativeqapipeline)\n",
    "3. Do some Pseudo-labeling on our custom dataset(s): [example](https://haystack.deepset.ai/tutorials/18_gpl). Would be an interesting exercise, but time and compute intensive.\n",
    "4. [LFQA Generation](https://haystack.deepset.ai/tutorials/12_lfqa) - this may also be more complex, but the process may be able to tune with only our documents. uses [this](https://docs.haystack.deepset.ai/docs/ready_made_pipelines#generativeqapipeline)\n",
    "5. [Summmarization](https://docs.haystack.deepset.ai/docs/ready_made_pipelines#searchsummarizationpipeline)\n",
    "6. Train the Reader models themselves eg [here](https://docs.haystack.deepset.ai/docs/reader#models)"
   ]
  },
  {
   "cell_type": "code",
   "execution_count": null,
   "metadata": {},
   "outputs": [],
   "source": []
  }
 ],
 "metadata": {
  "kernelspec": {
   "display_name": "pale-companion",
   "language": "python",
   "name": "python3"
  },
  "language_info": {
   "name": "python",
   "version": "3.10.6"
  },
  "orig_nbformat": 4,
  "vscode": {
   "interpreter": {
    "hash": "94b34b26ca0ede8a9f125e364d487712040961b4d4c8262639b9c1a29ec53671"
   }
  }
 },
 "nbformat": 4,
 "nbformat_minor": 2
}
