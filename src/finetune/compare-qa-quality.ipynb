{
 "cells": [
  {
   "attachments": {},
   "cell_type": "markdown",
   "metadata": {},
   "source": [
    "## Goal of this notebook\n",
    "Compare the quality of the different combinations of QA systems built as part of the `build-testing-qa`. This notebook will ingest all files created as part of that process so long as they are in the `generated_comparison_files` folder"
   ]
  },
  {
   "cell_type": "code",
   "execution_count": 9,
   "metadata": {},
   "outputs": [],
   "source": [
    "import os\n",
    "import pandas as pd\n",
    "import pickle"
   ]
  },
  {
   "cell_type": "code",
   "execution_count": 7,
   "metadata": {},
   "outputs": [
    {
     "data": {
      "text/plain": [
       "'word(100,20)_finetuned_GENERATIVE_BART(8,500).pkl'"
      ]
     },
     "execution_count": 7,
     "metadata": {},
     "output_type": "execute_result"
    }
   ],
   "source": [
    "dir_prefix = './generated_comparison_files/'\n",
    "all_files = sorted([f for f in os.listdir(dir_prefix) if os.path.isfile(os.path.join(dir_prefix,f)) and f.endswith('.pkl')])\n",
    "len(all_files)\n",
    "all_files[0]"
   ]
  },
  {
   "cell_type": "code",
   "execution_count": 17,
   "metadata": {},
   "outputs": [],
   "source": [
    "concat_files = []\n",
    "for fname in all_files:\n",
    "    with open(dir_prefix + fname, 'rb') as fp:\n",
    "        concat_files.append(pd.DataFrame(pickle.load(fp)))\n",
    "\n",
    "\n",
    "# Trying to view this in a single window is messy\n",
    "pd.concat(concat_files).to_csv(dir_prefix + 'combined_comparison.csv')"
   ]
  },
  {
   "cell_type": "code",
   "execution_count": 19,
   "metadata": {},
   "outputs": [
    {
     "data": {
      "text/html": [
       "<div>\n",
       "<style scoped>\n",
       "    .dataframe tbody tr th:only-of-type {\n",
       "        vertical-align: middle;\n",
       "    }\n",
       "\n",
       "    .dataframe tbody tr th {\n",
       "        vertical-align: top;\n",
       "    }\n",
       "\n",
       "    .dataframe thead th {\n",
       "        text-align: right;\n",
       "    }\n",
       "</style>\n",
       "<table border=\"1\" class=\"dataframe\">\n",
       "  <thead>\n",
       "    <tr style=\"text-align: right;\">\n",
       "      <th></th>\n",
       "      <th>question</th>\n",
       "      <th>answer</th>\n",
       "      <th>exec_time_seconds</th>\n",
       "    </tr>\n",
       "  </thead>\n",
       "  <tbody>\n",
       "    <tr>\n",
       "      <th>0</th>\n",
       "      <td>Who is Avery Kelly?</td>\n",
       "      <td>Avery Kelly is one of the most famous people i...</td>\n",
       "      <td>11.973174</td>\n",
       "    </tr>\n",
       "    <tr>\n",
       "      <th>1</th>\n",
       "      <td>Who is Avery Kelly?</td>\n",
       "      <td>Avery Kelly is a witch. She's a witch, but she...</td>\n",
       "      <td>10.186448</td>\n",
       "    </tr>\n",
       "    <tr>\n",
       "      <th>2</th>\n",
       "      <td>Who is Avery Kelly?</td>\n",
       "      <td>Avery Kelly is a witch. She's a witch, but she...</td>\n",
       "      <td>12.462568</td>\n",
       "    </tr>\n",
       "    <tr>\n",
       "      <th>3</th>\n",
       "      <td>Who is Avery Kelly?</td>\n",
       "      <td>Avery Kelly is a witch. She's a witch, but she...</td>\n",
       "      <td>12.849471</td>\n",
       "    </tr>\n",
       "    <tr>\n",
       "      <th>4</th>\n",
       "      <td>Who is Zed?</td>\n",
       "      <td>Zed Sadler is one of the founding members of t...</td>\n",
       "      <td>6.341122</td>\n",
       "    </tr>\n",
       "    <tr>\n",
       "      <th>...</th>\n",
       "      <td>...</td>\n",
       "      <td>...</td>\n",
       "      <td>...</td>\n",
       "    </tr>\n",
       "    <tr>\n",
       "      <th>59</th>\n",
       "      <td>How long has the Carmine been dead?</td>\n",
       "      <td>I don't know the answer to your question, but ...</td>\n",
       "      <td>4.843870</td>\n",
       "    </tr>\n",
       "    <tr>\n",
       "      <th>60</th>\n",
       "      <td>How old is Matthew?</td>\n",
       "      <td>I don't know the answer to your question, but ...</td>\n",
       "      <td>13.131870</td>\n",
       "    </tr>\n",
       "    <tr>\n",
       "      <th>61</th>\n",
       "      <td>How old is Matthew?</td>\n",
       "      <td>I don't know the answer to your question, but ...</td>\n",
       "      <td>28.584262</td>\n",
       "    </tr>\n",
       "    <tr>\n",
       "      <th>62</th>\n",
       "      <td>How old is Matthew?</td>\n",
       "      <td>I don't know the answer to your question, but ...</td>\n",
       "      <td>10.802597</td>\n",
       "    </tr>\n",
       "    <tr>\n",
       "      <th>63</th>\n",
       "      <td>How old is Matthew?</td>\n",
       "      <td>I don't know the answer to your question, but ...</td>\n",
       "      <td>8.358468</td>\n",
       "    </tr>\n",
       "  </tbody>\n",
       "</table>\n",
       "<p>384 rows × 3 columns</p>\n",
       "</div>"
      ],
      "text/plain": [
       "                               question  \\\n",
       "0                   Who is Avery Kelly?   \n",
       "1                   Who is Avery Kelly?   \n",
       "2                   Who is Avery Kelly?   \n",
       "3                   Who is Avery Kelly?   \n",
       "4                           Who is Zed?   \n",
       "..                                  ...   \n",
       "59  How long has the Carmine been dead?   \n",
       "60                  How old is Matthew?   \n",
       "61                  How old is Matthew?   \n",
       "62                  How old is Matthew?   \n",
       "63                  How old is Matthew?   \n",
       "\n",
       "                                               answer  exec_time_seconds  \n",
       "0   Avery Kelly is one of the most famous people i...          11.973174  \n",
       "1   Avery Kelly is a witch. She's a witch, but she...          10.186448  \n",
       "2   Avery Kelly is a witch. She's a witch, but she...          12.462568  \n",
       "3   Avery Kelly is a witch. She's a witch, but she...          12.849471  \n",
       "4   Zed Sadler is one of the founding members of t...           6.341122  \n",
       "..                                                ...                ...  \n",
       "59  I don't know the answer to your question, but ...           4.843870  \n",
       "60  I don't know the answer to your question, but ...          13.131870  \n",
       "61  I don't know the answer to your question, but ...          28.584262  \n",
       "62  I don't know the answer to your question, but ...          10.802597  \n",
       "63  I don't know the answer to your question, but ...           8.358468  \n",
       "\n",
       "[384 rows x 3 columns]"
      ]
     },
     "execution_count": 19,
     "metadata": {},
     "output_type": "execute_result"
    }
   ],
   "source": [
    "df = pd.concat(concat_files)\n",
    "preprocessor_params = ['PREPROCESSOR_SPLIT_BY', 'PREPROCESSOR_SPLIT_LENGTH', 'PREPROCESSOR_SPLIT_OVERLAP']\n",
    "embedding_params = ['EMBEDDING_MODEL', 'EMBEDDING_MODEL_SHORTNAME', 'EMBEDDING_MAX_SEQ_LENGTH']\n",
    "output_params = ['OUTPUT_TYPE', 'OUTPUT_NBEAMS', 'OUTPUT_MAXLENGTH', 'retriever_topk']\n",
    "decision_factors = ['question', 'answer', 'exec_time_seconds']\n",
    "\n",
    "df[decision_factors]"
   ]
  },
  {
   "attachments": {},
   "cell_type": "markdown",
   "metadata": {},
   "source": [
    "## Summary of Learnings:\n",
    "- The execution time doesn't seem to directly correlate with the top-K of the retriever\n",
    "- The difference in execution time has some correlation with the question, but the minimum times are similar (1 sec) while maximum times are highly variable (4-40 seconds)\n",
    "- 400-token preprocessed data tends to skew higher by ~30%\n",
    "- Embedding model had the highest impact on performance with average performance for distilbert / finetuned performance being 50% slower, worst-case being 75% slower, and best-case being 100% slower.\n",
    "- Finetuned model loves to say \"I don't know if this is what you've looking for\"\n",
    "- 400 seems to maybe be a little long, but 100 too short.\n",
    "- Honestly there may have been too many questions created.\n",
    "- Good Top-k is around 10\n",
    "- \n",
    "### Question-by-question performance\n",
    "- Verona Sight : Ok, low word-count documents are generally better though typical distilbert is bad. Top-k doesn't matter past 10, but that might be a limitation of the Generator. Not super accurate.\n",
    "- Carmine Dead: All slightly wrong but very similar.\n",
    "- Matthew: low-length finetuned is the best, everything else gets too inventive.\n",
    "- Snowdrop: BERT has no clue, and other are roughly the same (with some generative weirdness)\n",
    "- Awakening Ritual: Distilbert did good, but longer passages were needed to properly build the context.\n",
    "- Miss: Completely lost (ha)\n",
    "- Forest Ribbon Trail: not too bad ona ll 3, the larger context better.\n",
    "- Toadswallow: all bad\n",
    "- Alpeona: Not great\n",
    "- Hungry Choir: Tuned and distilbert all goood, but longer context important.\n",
    "- Kennet: finetuned for sure, more context.\n",
    "- Arena: finetuned\n",
    "- Avery: Finetuned, but none great\n",
    "- Zed: Finetuned\n",
    "- Maricaca: Finetuned\n",
    "- Why Avery: None great"
   ]
  }
 ],
 "metadata": {
  "kernelspec": {
   "display_name": "pale-companion",
   "language": "python",
   "name": "python3"
  },
  "language_info": {
   "codemirror_mode": {
    "name": "ipython",
    "version": 3
   },
   "file_extension": ".py",
   "mimetype": "text/x-python",
   "name": "python",
   "nbconvert_exporter": "python",
   "pygments_lexer": "ipython3",
   "version": "3.10.6"
  },
  "orig_nbformat": 4,
  "vscode": {
   "interpreter": {
    "hash": "94b34b26ca0ede8a9f125e364d487712040961b4d4c8262639b9c1a29ec53671"
   }
  }
 },
 "nbformat": 4,
 "nbformat_minor": 2
}
