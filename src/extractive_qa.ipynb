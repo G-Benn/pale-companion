{
 "cells": [
  {
   "attachments": {},
   "cell_type": "markdown",
   "metadata": {},
   "source": [
    "## Load a v0 QA pipeline\n",
    "- Follow the steps [here](https://haystack.deepset.ai/tutorials/01_basic_qa_pipeline) at first\n",
    "- Expand with preprocessing learnings from [here](https://haystack.deepset.ai/tutorials/08_preprocessing), [here](https://docs.haystack.deepset.ai/docs/preprocessor#usage), and [here](https://docs.haystack.deepset.ai/docs/optimization)"
   ]
  },
  {
   "cell_type": "code",
   "execution_count": 1,
   "metadata": {},
   "outputs": [],
   "source": [
    "# Import some files\n",
    "import pickle\n",
    "with open('../data/chapter_fmt_list.pkl','rb') as f:\n",
    "    chapters = pickle.load(f)"
   ]
  },
  {
   "cell_type": "code",
   "execution_count": 2,
   "metadata": {},
   "outputs": [],
   "source": [
    "import logging\n",
    "\n",
    "logging.basicConfig(format=\"%(levelname)s - %(name)s -  %(message)s\", level=logging.WARNING)\n",
    "logging.getLogger(\"haystack\").setLevel(logging.INFO)\n"
   ]
  },
  {
   "cell_type": "code",
   "execution_count": 6,
   "metadata": {},
   "outputs": [],
   "source": [
    "from haystack import Document\n",
    "chapter_documents = [Document.from_dict(d) for d in chapters]"
   ]
  },
  {
   "cell_type": "code",
   "execution_count": 95,
   "metadata": {},
   "outputs": [],
   "source": [
    "# Try with a few different Preprocessors on either passages (too long) or sentence. We'll probably need to tinker with this\n",
    "from haystack.nodes import PreProcessor\n",
    "\n",
    "word_preprocessor = PreProcessor(\n",
    "    clean_empty_lines=True,\n",
    "    clean_whitespace=True,\n",
    "    clean_header_footer=True,\n",
    "    split_by=\"word\",\n",
    "    split_length=100,\n",
    "    split_respect_sentence_boundary=True,\n",
    "    split_overlap=20,\n",
    "    progress_bar=True, \n",
    "    add_page_number=True\n",
    ")\n",
    "\n",
    "sentence_preprocessor = PreProcessor(\n",
    "    clean_empty_lines=True,\n",
    "    clean_whitespace=True,\n",
    "    clean_header_footer=True,\n",
    "    split_by=\"sentence\",\n",
    "    split_length=6,\n",
    "    split_respect_sentence_boundary=False,\n",
    "    split_overlap=2,\n",
    "    progress_bar=True, \n",
    "    add_page_number=True\n",
    ")\n",
    "# Should add max_chars_check or similar once we get to the point we do a dense retreival model"
   ]
  },
  {
   "cell_type": "code",
   "execution_count": 96,
   "metadata": {},
   "outputs": [
    {
     "data": {
      "application/vnd.jupyter.widget-view+json": {
       "model_id": "39b9263c8ed14a03931a7bcc26a10833",
       "version_major": 2,
       "version_minor": 0
      },
      "text/plain": [
       "Preprocessing:   0%|          | 0/307 [00:00<?, ?docs/s]"
      ]
     },
     "metadata": {},
     "output_type": "display_data"
    },
    {
     "name": "stderr",
     "output_type": "stream",
     "text": [
      "WARNING - haystack.nodes.preprocessor.preprocessor -  We found one or more sentences whose word count is higher than the split length.\n"
     ]
    },
    {
     "data": {
      "application/vnd.jupyter.widget-view+json": {
       "model_id": "ae1b663bf4cf4d02ab7f5cb0d2ba451e",
       "version_major": 2,
       "version_minor": 0
      },
      "text/plain": [
       "Preprocessing:   0%|          | 0/307 [00:00<?, ?docs/s]"
      ]
     },
     "metadata": {},
     "output_type": "display_data"
    }
   ],
   "source": [
    "docs_word = word_preprocessor.process(chapter_documents)\n",
    "docs_sentence = sentence_preprocessor.process(chapter_documents)"
   ]
  },
  {
   "cell_type": "code",
   "execution_count": 97,
   "metadata": {},
   "outputs": [
    {
     "name": "stderr",
     "output_type": "stream",
     "text": [
      "INFO - haystack.modeling.utils -  Using devices: CUDA:0 - Number of GPUs: 1\n"
     ]
    }
   ],
   "source": [
    "from haystack.document_stores import InMemoryDocumentStore\n",
    "\n",
    "document_store = InMemoryDocumentStore(use_bm25=True)\n"
   ]
  },
  {
   "cell_type": "code",
   "execution_count": 98,
   "metadata": {},
   "outputs": [
    {
     "data": {
      "application/vnd.jupyter.widget-view+json": {
       "model_id": "bb69afcd8c8b4388b20799ec5ecd2d51",
       "version_major": 2,
       "version_minor": 0
      },
      "text/plain": [
       "Updating BM25 representation...:   0%|          | 0/62501 [00:00<?, ? docs/s]"
      ]
     },
     "metadata": {},
     "output_type": "display_data"
    }
   ],
   "source": [
    "# Write some documents to the store with their metadata\n",
    "document_store.delete_documents() # Keep this around for experimentation\n",
    "document_store.write_documents(documents=docs_sentence)"
   ]
  },
  {
   "cell_type": "code",
   "execution_count": 99,
   "metadata": {},
   "outputs": [],
   "source": [
    "# Initialize a Retreiver\n",
    "from haystack.nodes import BM25Retriever\n",
    "\n",
    "retriever = BM25Retriever(document_store=document_store)\n"
   ]
  },
  {
   "cell_type": "code",
   "execution_count": 100,
   "metadata": {},
   "outputs": [
    {
     "name": "stderr",
     "output_type": "stream",
     "text": [
      "INFO - haystack.modeling.utils -  Using devices: CUDA:0 - Number of GPUs: 1\n",
      "INFO - haystack.modeling.utils -  Using devices: CUDA:0 - Number of GPUs: 1\n",
      "INFO - haystack.modeling.model.language_model -   * LOADING MODEL: 'deepset/roberta-base-squad2' (Roberta)\n",
      "INFO - haystack.modeling.model.language_model -  Auto-detected model language: english\n",
      "INFO - haystack.modeling.model.language_model -  Loaded 'deepset/roberta-base-squad2' (Roberta model) from model hub.\n",
      "INFO - haystack.modeling.utils -  Using devices: CUDA:0 - Number of GPUs: 1\n"
     ]
    }
   ],
   "source": [
    "# initialize the Reader\n",
    "from haystack.nodes import FARMReader\n",
    "\n",
    "reader = FARMReader(model_name_or_path=\"deepset/roberta-base-squad2\", use_gpu=True)\n"
   ]
  },
  {
   "cell_type": "code",
   "execution_count": 101,
   "metadata": {},
   "outputs": [],
   "source": [
    "# Create a retreiver-reader pipeline\n",
    "from haystack.pipelines import ExtractiveQAPipeline\n",
    "\n",
    "pipe = ExtractiveQAPipeline(reader, retriever)"
   ]
  },
  {
   "cell_type": "code",
   "execution_count": 102,
   "metadata": {},
   "outputs": [
    {
     "name": "stderr",
     "output_type": "stream",
     "text": [
      "WARNING - haystack.document_stores.memory -  InMemoryDocumentStore does not support scale_score for BM25 retrieval. This parameter is ignored.\n"
     ]
    },
    {
     "data": {
      "application/vnd.jupyter.widget-view+json": {
       "model_id": "55cc61c7d57243ccb1479d7a8a4b8e13",
       "version_major": 2,
       "version_minor": 0
      },
      "text/plain": [
       "Inferencing Samples:   0%|          | 0/1 [00:00<?, ? Batches/s]"
      ]
     },
     "metadata": {},
     "output_type": "display_data"
    }
   ],
   "source": [
    "# Ask some questions and get some answers\n",
    "prediction = pipe.run(\n",
    "    query=\"Who is the Sable Prince?\",\n",
    "    params={\n",
    "        \"Retriever\": {\"top_k\": 10},\n",
    "        \"Reader\": {\"top_k\": 5}\n",
    "    }\n",
    ")"
   ]
  },
  {
   "cell_type": "code",
   "execution_count": 103,
   "metadata": {},
   "outputs": [
    {
     "name": "stdout",
     "output_type": "stream",
     "text": [
      "{'answers': [<Answer {'answer': 'Percival Awarnach', 'type': 'extractive', 'score': 0.7275899052619934, 'context': 'ember of this constituency.  I will begin again.  My given name is Percival Awarnach of the ninety-nine titles, the first and foremost of which…”  The', 'offsets_in_document': [{'start': 153, 'end': 170}], 'offsets_in_context': [{'start': 67, 'end': 84}], 'document_id': '584851e29a4c266696c73ad046e4368e', 'meta': {'arc_title': 'In Absentia', 'pov': 'Lucy', 'wordcount': '13351', 'series_chapter_number': 253, 'arc_number': '21', 'extra_material': False, 'title': 'In Absentia - 21.4', 'chapter': '21.4', '_split_id': 202, 'page': 1}}>,\n",
      "             <Answer {'answer': 'once a higher spirit', 'type': 'extractive', 'score': 0.43792739510536194, 'context': ' The Choir would become the Carmine Choir.  The Sable Prince was once a higher spirit.  Prince was the easiest title to give him.”  “Did you have anyt', 'offsets_in_document': [{'start': 265, 'end': 285}], 'offsets_in_context': [{'start': 65, 'end': 85}], 'document_id': 'dd7ed5756f5ebeee59016215f6e06f06', 'meta': {'arc_title': 'Stolen Away', 'pov': 'Verona', 'wordcount': '11998', 'series_chapter_number': 16, 'arc_number': '2', 'extra_material': False, 'title': 'Stolen Away - 2.6', 'chapter': '2.6', '_split_id': 133, 'page': 1}}>,\n",
      "             <Answer {'answer': 'John', 'type': 'extractive', 'score': 0.22756043076515198, 'context': '  “Yeah,” Lucy said, quiet.  “Go, look after him, look after yourself.”  John turned his head, looking at the Sable Prince.  Then he strode away, paus', 'offsets_in_document': [{'start': 156, 'end': 160}], 'offsets_in_context': [{'start': 73, 'end': 77}], 'document_id': '4e0656142b96ceed57909686aac77ed4', 'meta': {'arc_title': 'Dash to Pieces', 'pov': 'Lucy', 'wordcount': '10736', 'series_chapter_number': 107, 'arc_number': '11', 'extra_material': False, 'title': 'Dash to Pieces - 11.4', 'chapter': '11.4', '_split_id': 144, 'page': 1}}>,\n",
      "             <Answer {'answer': 'Carmine', 'type': 'extractive', 'score': 0.22070905566215515, 'context': 'er, writing on each side, giving him an internal map and instructions.  An acorn.”  “He retains the right, Carmine.”  “Sir!” the summoning piped up.  ', 'offsets_in_document': [{'start': 426, 'end': 433}], 'offsets_in_context': [{'start': 107, 'end': 114}], 'document_id': '84089b2a9c69247a3dc9b14cc0106fe5', 'meta': {'arc_title': 'In Absentia', 'pov': 'Lucy', 'wordcount': '13351', 'series_chapter_number': 253, 'arc_number': '21', 'extra_material': False, 'title': 'In Absentia - 21.4', 'chapter': '21.4', '_split_id': 203, 'page': 1}}>,\n",
      "             <Answer {'answer': 'John told the spirit', 'type': 'extractive', 'score': 0.0966438353061676, 'context': 'His footsteps were silent.  The Sable Prince.  “I’m on course,” John told the spirit.  “You don’t need to worry.”  The Sable Prince walked on, matchin', 'offsets_in_document': [{'start': 64, 'end': 84}], 'offsets_in_context': [{'start': 64, 'end': 84}], 'document_id': 'e25b5f7b1e173649d068d991c12beb0e', 'meta': {'arc_title': 'One After Another', 'pov': 'John', 'wordcount': '13655', 'series_chapter_number': 95, 'arc_number': '10', 'extra_material': False, 'title': 'One After Another - 10.a', 'chapter': '10.a', '_split_id': 294, 'page': 1}}>],\n",
      " 'documents': [<Document: {'content': 'Tha Sable Prince was tha one I worked with most.”  “Prince?” Avery asked.  “The titles suggest who they were before,” Miss explained.  “Were John Stiles to take the seat, he would be the Carmine Dog.  The Choir would become the Carmine Choir.  The Sable Prince was once a higher spirit.  Prince was the easiest title to give him.”  “Did you have anything against the Beast?” Lucy asked.  ', 'content_type': 'text', 'score': 24.75749559191509, 'meta': {'arc_title': 'Stolen Away', 'pov': 'Verona', 'wordcount': '11998', 'series_chapter_number': 16, 'arc_number': '2', 'extra_material': False, 'title': 'Stolen Away - 2.6', 'chapter': '2.6', '_split_id': 133, 'page': 1}, 'id_hash_keys': ['content'], 'embedding': None, 'id': 'dd7ed5756f5ebeee59016215f6e06f06'}>,\n",
      "               <Document: {'content': 'His footsteps were silent.  The Sable Prince.  “I’m on course,” John told the spirit.  “You don’t need to worry.”  The Sable Prince walked on, matching John’s pace.  “You just keep up your end of the bargain.”', 'content_type': 'text', 'score': 22.870285397597982, 'meta': {'arc_title': 'One After Another', 'pov': 'John', 'wordcount': '13655', 'series_chapter_number': 95, 'arc_number': '10', 'extra_material': False, 'title': 'One After Another - 10.a', 'chapter': '10.a', '_split_id': 294, 'page': 1}, 'id_hash_keys': ['content'], 'embedding': None, 'id': 'e25b5f7b1e173649d068d991c12beb0e'}>,\n",
      "               <Document: {'content': 'She groped for an answer, realized who might be out there, and uttered, “John.”  The furs reached for moments.  She pushed those away.  The Carmine Beast had watched John…  “When she falls,” the Sable Prince said, “you’re our first choice to follow her.  You would have our support.”  John looked at the Aurum Coil, the Alabaster Doe, and the Sable Prince.  “Yalda only just died.  I’m not in a good state to…” he trailed off.  ', 'content_type': 'text', 'score': 21.574183410300673, 'meta': {'arc_title': 'Summer Break', 'pov': 'Lucy', 'wordcount': '12713', 'series_chapter_number': 132, 'arc_number': '13', 'extra_material': False, 'title': 'Summer Break - 13.2', 'chapter': '13.2', '_split_id': 143, 'page': 1}, 'id_hash_keys': ['content'], 'embedding': None, 'id': 'b3c75286569256a5405c8b3d6d87e5a3'}>,\n",
      "               <Document: {'content': 'The lights brightened, and the Alabaster Doe disappeared.  The Aurum Coil flowed into the trees.  The Sable Prince remained.  He turned to the building, and the various Dog Tags moved out of the way, scattering a bit.  “I suppose these things need to be administered to,” the Sable Prince said.  The ground became even more reflective, a shimmer on the pavement.  ', 'content_type': 'text', 'score': 21.343151978394978, 'meta': {'arc_title': 'Summer Break', 'pov': 'Misc.', 'wordcount': '11433', 'series_chapter_number': 149, 'arc_number': 13, 'extra_material': False, 'title': 'Summer Break - 13.end', 'chapter': '13.end', '_split_id': 231, 'page': 1}, 'id_hash_keys': ['content'], 'embedding': None, 'id': '9070721d2c1f813927727286a6d5c1f8'}>,\n",
      "               <Document: {'content': '“I suppose these things need to be administered to,” the Sable Prince said.  The ground became even more reflective, a shimmer on the pavement.  The shimmer reached the burning, broken Arena.  And then it was restored.  In an eyeblink, back to the same state it was in before tonight.  “I’m sorry for the passing of your friend,” the Sable Prince said.  ', 'content_type': 'text', 'score': 21.15933555104239, 'meta': {'arc_title': 'Summer Break', 'pov': 'Misc.', 'wordcount': '11433', 'series_chapter_number': 149, 'arc_number': 13, 'extra_material': False, 'title': 'Summer Break - 13.end', 'chapter': '13.end', '_split_id': 232, 'page': 1}, 'id_hash_keys': ['content'], 'embedding': None, 'id': 'a7904934274fd8447e2c11425be1ed36'}>,\n",
      "               <Document: {'content': '“Sir, I do not believe I have your full attention, which is my due and my right as a member of this constituency.  I will begin again.  My given name is Percival Awarnach of the ninety-nine titles, the first and foremost of which…”  The Sable Prince stepped out of the shadows, looking at the situation with dark eyes.  “This precedent cannot stand,” Charles informed him.  “Oh, it shouldn’t, no,” the Sable Prince replied.  “We wouldn’t be able to function.”  “Sir!” the summoning piped up.  ', 'content_type': 'text', 'score': 21.064453623569875, 'meta': {'arc_title': 'In Absentia', 'pov': 'Lucy', 'wordcount': '13351', 'series_chapter_number': 253, 'arc_number': '21', 'extra_material': False, 'title': 'In Absentia - 21.4', 'chapter': '21.4', '_split_id': 202, 'page': 1}, 'id_hash_keys': ['content'], 'embedding': None, 'id': '584851e29a4c266696c73ad046e4368e'}>,\n",
      "               <Document: {'content': '“You have Edith secured, you have Tashlit keeping watch?  You don’t need a second.”  “Yeah,” Lucy said, quiet.  “Go, look after him, look after yourself.”  John turned his head, looking at the Sable Prince.  Then he strode away, pausing only so Tashlit could squeeze to the side and let him up the upper portion of the flight of stairs.  Lucy watched the stairs for a bit, watched Tashlit stare out at the dark driveway.  She looked in the direction of the Sable Prince, who hadn’t yet left.  ', 'content_type': 'text', 'score': 20.907710652895137, 'meta': {'arc_title': 'Dash to Pieces', 'pov': 'Lucy', 'wordcount': '10736', 'series_chapter_number': 107, 'arc_number': '11', 'extra_material': False, 'title': 'Dash to Pieces - 11.4', 'chapter': '11.4', '_split_id': 144, 'page': 1}, 'id_hash_keys': ['content'], 'embedding': None, 'id': '4e0656142b96ceed57909686aac77ed4'}>,\n",
      "               <Document: {'content': 'So we gotta have a Kennet with magic in it.”  Another, heavier shadow passed over the glaring white light.  Her hand twinged.  She rubbed it.  “There are conditions,” the Sable Prince said, from behind her.  Verona turned, still rubbing in circular motions around her palm.  The Sable Prince stood where the Carmine furs had been, just out of the light.  ', 'content_type': 'text', 'score': 20.712152550848053, 'meta': {'arc_title': 'Left in the Dust', 'pov': 'Verona', 'wordcount': '13168', 'series_chapter_number': 178, 'arc_number': '16', 'extra_material': False, 'title': 'Left in the Dust - 16.10', 'chapter': '16.10', '_split_id': 8, 'page': 1}, 'id_hash_keys': ['content'], 'embedding': None, 'id': '6317e54042a3e13fa5845cd966c30b36'}>,\n",
      "               <Document: {'content': '“Oh, it shouldn’t, no,” the Sable Prince replied.  “We wouldn’t be able to function.”  “Sir!” the summoning piped up.  “I do not believe I have your full attention!”  “He comes as a challenger.  As is his right,” the Sable Prince said.  “They made his brain an acorn with a symbol on it, referring to seven pages of paper, writing on each side, giving him an internal map and instructions.  An acorn.”  “He retains the right, Carmine.”  “Sir!” the summoning piped up.  ', 'content_type': 'text', 'score': 20.525010164510793, 'meta': {'arc_title': 'In Absentia', 'pov': 'Lucy', 'wordcount': '13351', 'series_chapter_number': 253, 'arc_number': '21', 'extra_material': False, 'title': 'In Absentia - 21.4', 'chapter': '21.4', '_split_id': 203, 'page': 1}, 'id_hash_keys': ['content'], 'embedding': None, 'id': '84089b2a9c69247a3dc9b14cc0106fe5'}>,\n",
      "               <Document: {'content': 'Sixteen or seventeen.  “Are you a creature of contradictions, Sable Prince?” the Aurum asked.  “Some respect, please,” the Sable replied.  The Aurum looked.  To the echo, to the moment that created it, then back out to the future.  “The boy’s still alive.”  “Something died in him at this moment,” the Sable replied.  ', 'content_type': 'text', 'score': 20.46695425286952, 'meta': {'arc_title': 'Crossed with Silver', 'pov': 'Aurum', 'wordcount': '12658', 'series_chapter_number': 233, 'arc_number': '19', 'extra_material': False, 'title': 'Crossed with Silver - 19.z', 'chapter': '19.z', '_split_id': 137, 'page': 1}, 'id_hash_keys': ['content'], 'embedding': None, 'id': '9a01521d10d48791da5ba15fcb688934'}>],\n",
      " 'no_ans_gap': 2.9597368240356445,\n",
      " 'node_id': 'Reader',\n",
      " 'params': {'Reader': {'top_k': 5}, 'Retriever': {'top_k': 10}},\n",
      " 'query': 'Who is the Sable Prince?',\n",
      " 'root_node': 'Query'}\n"
     ]
    }
   ],
   "source": [
    "# Print out some answers\n",
    "from pprint import pprint\n",
    "\n",
    "pprint(prediction)"
   ]
  },
  {
   "cell_type": "code",
   "execution_count": 104,
   "metadata": {},
   "outputs": [
    {
     "name": "stdout",
     "output_type": "stream",
     "text": [
      "\n",
      "Query: Who is the Sable Prince?\n",
      "Answers:\n",
      "[   {   'answer': 'Percival Awarnach',\n",
      "        'context': 'ember of this constituency.  I will begin again.  My given '\n",
      "                   'name is Percival Awarnach of the ninety-nine titles, the '\n",
      "                   'first and foremost of which…”  The'},\n",
      "    {   'answer': 'once a higher spirit',\n",
      "        'context': ' The Choir would become the Carmine Choir.  The Sable '\n",
      "                   'Prince was once a higher spirit.  Prince was the easiest '\n",
      "                   'title to give him.”  “Did you have anyt'},\n",
      "    {   'answer': 'John',\n",
      "        'context': '  “Yeah,” Lucy said, quiet.  “Go, look after him, look '\n",
      "                   'after yourself.”  John turned his head, looking at the '\n",
      "                   'Sable Prince.  Then he strode away, paus'},\n",
      "    {   'answer': 'Carmine',\n",
      "        'context': 'er, writing on each side, giving him an internal map and '\n",
      "                   'instructions.  An acorn.”  “He retains the right, '\n",
      "                   'Carmine.”  “Sir!” the summoning piped up.  '},\n",
      "    {   'answer': 'John told the spirit',\n",
      "        'context': 'His footsteps were silent.  The Sable Prince.  “I’m on '\n",
      "                   'course,” John told the spirit.  “You don’t need to '\n",
      "                   'worry.”  The Sable Prince walked on, matchin'}]\n"
     ]
    }
   ],
   "source": [
    "from haystack.utils import print_answers\n",
    "\n",
    "print_answers(\n",
    "    prediction,\n",
    "    details=\"minimum\" ## Choose from `minimum`, `medium`, and `all`\n",
    ")\n"
   ]
  },
  {
   "cell_type": "code",
   "execution_count": null,
   "metadata": {},
   "outputs": [],
   "source": []
  }
 ],
 "metadata": {
  "kernelspec": {
   "display_name": "pale-companion",
   "language": "python",
   "name": "python3"
  },
  "language_info": {
   "codemirror_mode": {
    "name": "ipython",
    "version": 3
   },
   "file_extension": ".py",
   "mimetype": "text/x-python",
   "name": "python",
   "nbconvert_exporter": "python",
   "pygments_lexer": "ipython3",
   "version": "3.10.6"
  },
  "orig_nbformat": 4,
  "vscode": {
   "interpreter": {
    "hash": "94b34b26ca0ede8a9f125e364d487712040961b4d4c8262639b9c1a29ec53671"
   }
  }
 },
 "nbformat": 4,
 "nbformat_minor": 2
}
